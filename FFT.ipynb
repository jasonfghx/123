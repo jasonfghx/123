{
  "nbformat": 4,
  "nbformat_minor": 0,
  "metadata": {
    "colab": {
      "name": "FFT.ipynb",
      "version": "0.3.2",
      "provenance": []
    },
    "kernelspec": {
      "name": "python3",
      "display_name": "Python 3"
    }
  },
  "cells": [
    {
      "metadata": {
        "id": "Y9A6MxLOkzhd",
        "colab_type": "code",
        "colab": {
          "base_uri": "https://localhost:8080/",
          "height": 34
        },
        "outputId": "159f0d8a-a8af-4524-8f6c-44978846f544"
      },
      "cell_type": "code",
      "source": [
        "from google.colab import drive\n",
        "\n",
        "drive.mount('/content/gdrive', force_remount=True)"
      ],
      "execution_count": 2,
      "outputs": [
        {
          "output_type": "stream",
          "text": [
            "Mounted at /content/gdrive\n"
          ],
          "name": "stdout"
        }
      ]
    },
    {
      "metadata": {
        "id": "cRRC5qMalgac",
        "colab_type": "code",
        "colab": {}
      },
      "cell_type": "code",
      "source": [
        "import pandas as pd\n",
        "import numpy as np\n",
        "from scipy.fftpack import fft, ifft\n",
        "import matplotlib.pyplot as plt"
      ],
      "execution_count": 0,
      "outputs": []
    },
    {
      "metadata": {
        "id": "NzXGSRXVlgfS",
        "colab_type": "code",
        "colab": {}
      },
      "cell_type": "code",
      "source": [
        "f = open('/content/gdrive/My Drive/邵老師的事/振動/BDevEmbLog_Streaming_Ch_X_MAC_ID___0_x_00158D00000E0A1C_19_01_21_08_17_17_00_UTC.txt','r')\n",
        "#print(f.read())\n",
        "text = []\n",
        "for line in f:\n",
        "  text.append(line)\n"
      ],
      "execution_count": 0,
      "outputs": []
    },
    {
      "metadata": {
        "id": "5QCz6OJFlmKx",
        "colab_type": "code",
        "colab": {}
      },
      "cell_type": "code",
      "source": [
        "text_s=[]\n",
        "for ii in range (0,len(text)):\n",
        "  if text[ii].find(';')>=1 and text[ii].find('.')>=1:\n",
        "    text_s.append(text[ii].replace('\\n',''))"
      ],
      "execution_count": 0,
      "outputs": []
    },
    {
      "metadata": {
        "id": "JxHz_b7IlmQa",
        "colab_type": "code",
        "colab": {}
      },
      "cell_type": "code",
      "source": [
        "dataf=np.zeros(len(text_s))\n",
        "data_fr=pd.DataFrame(dataf)\n",
        "data_fr.columns=[\"time\"]\n",
        "data_fr[\"amp\"]=None"
      ],
      "execution_count": 0,
      "outputs": []
    },
    {
      "metadata": {
        "id": "Q0EkksvhlmWI",
        "colab_type": "code",
        "colab": {
          "base_uri": "https://localhost:8080/",
          "height": 34
        },
        "outputId": "2b636295-728c-430c-d30e-033420aa357c"
      },
      "cell_type": "code",
      "source": [
        "from tqdm import tqdm\n",
        "for i in tqdm(range(0,len(text_s))):\n",
        "  data_fr.iloc[i,0]=float(text_s[i].split(';')[0])\n",
        "  data_fr.iloc[i,1]=float(text_s[i].split(';')[1])"
      ],
      "execution_count": 12,
      "outputs": [
        {
          "output_type": "stream",
          "text": [
            "100%|██████████| 35965/35965 [01:35<00:00, 376.55it/s]\n"
          ],
          "name": "stderr"
        }
      ]
    },
    {
      "metadata": {
        "id": "vOmEYCTWmgaR",
        "colab_type": "code",
        "colab": {}
      },
      "cell_type": "code",
      "source": [
        "x = data_fr[\"time\"]\n",
        "y=data_fr[\"amp\"]\n",
        "yf = fft(y)"
      ],
      "execution_count": 0,
      "outputs": []
    },
    {
      "metadata": {
        "id": "p-OOGZXumgc2",
        "colab_type": "code",
        "colab": {}
      },
      "cell_type": "code",
      "source": [
        "start_time = 0 # seconds\n",
        "pi=3.14\n",
        "end_time = x.max() # seconds\n",
        "sampling_rate = 1000 # Hz\n",
        "N = len(x)\n",
        "\n",
        "x1=x[0:18000]\n",
        "from scipy.fftpack import fft\n",
        "\n",
        "# Nyquist Sampling Criteria\n",
        "T = 1/sampling_rate # inverse of the sampling rate\n",
        "\n",
        "\n",
        "# FFT algorithm\n",
        "yr = fft(y) # \"raw\" FFT with both + and - frequencies\n",
        "y = 2/N * np.abs(yr[0:np.int(N/2)]) # positive freqs only"
      ],
      "execution_count": 0,
      "outputs": []
    },
    {
      "metadata": {
        "id": "9A0ncPjTmgfP",
        "colab_type": "code",
        "colab": {}
      },
      "cell_type": "code",
      "source": [
        "fina=pd.DataFrame(x1[1:100])\n",
        "fina.columns=[\"Frequency (Hz)\"]\n",
        "fina['Vibration (g)']=y[1:100]"
      ],
      "execution_count": 0,
      "outputs": []
    },
    {
      "metadata": {
        "id": "ulo8Kd00lmbo",
        "colab_type": "code",
        "colab": {}
      },
      "cell_type": "code",
      "source": [
        "fina.to_csv(\"/content/gdrive/My Drive/temp/data.csv\")"
      ],
      "execution_count": 0,
      "outputs": []
    }
  ]
}